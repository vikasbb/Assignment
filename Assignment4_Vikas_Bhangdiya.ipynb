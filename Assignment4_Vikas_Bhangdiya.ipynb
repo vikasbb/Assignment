{
 "cells": [
  {
   "cell_type": "markdown",
   "id": "5e1b2245",
   "metadata": {},
   "source": [
    "# Assignment 4"
   ]
  },
  {
   "cell_type": "markdown",
   "id": "7db09e77",
   "metadata": {},
   "source": [
    "**1. What exactly is `[]`?**"
   ]
  },
  {
   "cell_type": "markdown",
   "id": "1c63b2a1",
   "metadata": {},
   "source": [
    "**Ans**: [] indicates list with no item i..e. empty list."
   ]
  },
  {
   "cell_type": "markdown",
   "id": "388b229d",
   "metadata": {},
   "source": [
    "**2. In a list of values stored in a variable called spam, how would you assign the value 'hello' as the third value? (Assume [2, 4, 6, 8, 10] are in spam.)**"
   ]
  },
  {
   "cell_type": "code",
   "execution_count": 7,
   "id": "1f6e2348",
   "metadata": {},
   "outputs": [
    {
     "name": "stdout",
     "output_type": "stream",
     "text": [
      "[2, 4, 'hello', 8, 10]\n"
     ]
    }
   ],
   "source": [
    "spam = [2,4,6,8,10]\n",
    "spam[2]=\"hello\"\n",
    "print(spam)\n"
   ]
  },
  {
   "cell_type": "markdown",
   "id": "039660f5",
   "metadata": {},
   "source": [
    "**Let's pretend the spam includes the list ['a', 'b', 'c', 'd'] for the next three queries.**"
   ]
  },
  {
   "cell_type": "code",
   "execution_count": 9,
   "id": "f3da7da8",
   "metadata": {},
   "outputs": [],
   "source": [
    "spam =['a', 'b', 'c', 'd']"
   ]
  },
  {
   "cell_type": "markdown",
   "id": "f8dc9dce",
   "metadata": {},
   "source": [
    "**3. What is the value of spam[int(int('3' * 2) / 11)]?**"
   ]
  },
  {
   "cell_type": "code",
   "execution_count": 12,
   "id": "0d1b1c4a",
   "metadata": {},
   "outputs": [
    {
     "data": {
      "text/plain": [
       "33"
      ]
     },
     "execution_count": 12,
     "metadata": {},
     "output_type": "execute_result"
    }
   ],
   "source": [
    "int('3' * 2) #It gives o/p 33 integer value"
   ]
  },
  {
   "cell_type": "code",
   "execution_count": 13,
   "id": "fd02534b",
   "metadata": {},
   "outputs": [
    {
     "data": {
      "text/plain": [
       "'d'"
      ]
     },
     "execution_count": 13,
     "metadata": {},
     "output_type": "execute_result"
    }
   ],
   "source": [
    "spam[int(int('3' * 2) / 11)]  # 33/11 =3 and indexing 3 value is 'd'"
   ]
  },
  {
   "cell_type": "markdown",
   "id": "dfed02fb",
   "metadata": {},
   "source": [
    "**4. What is the value of spam[-1]?**\n",
    "\n",
    "**Ans:** 'd' (Indexing from left to right)"
   ]
  },
  {
   "cell_type": "code",
   "execution_count": 16,
   "id": "74360a60",
   "metadata": {},
   "outputs": [
    {
     "name": "stdout",
     "output_type": "stream",
     "text": [
      "spam[-1]= {'d'}\n"
     ]
    }
   ],
   "source": [
    "spam =['a', 'b', 'c', 'd']\n",
    "print(f\"spam[-1]=\",{spam[-1]})"
   ]
  },
  {
   "cell_type": "markdown",
   "id": "07891bb4",
   "metadata": {},
   "source": [
    "**5. What is the value of spam[:2]?**"
   ]
  },
  {
   "cell_type": "code",
   "execution_count": 20,
   "id": "1698cd24",
   "metadata": {},
   "outputs": [
    {
     "name": "stdout",
     "output_type": "stream",
     "text": [
      "spam[:2]=  ['a', 'b']\n"
     ]
    }
   ],
   "source": [
    "print(f\"spam[:2]= \",spam[:2]) #Printing value from index 0 to index(2-1)"
   ]
  },
  {
   "cell_type": "markdown",
   "id": "a8cdf132",
   "metadata": {},
   "source": [
    "**Let's pretend bacon has the list [3.14, 'cat,' 11, 'cat,' True] for the next three questions**"
   ]
  },
  {
   "cell_type": "code",
   "execution_count": 16,
   "id": "d8853071",
   "metadata": {},
   "outputs": [],
   "source": [
    "bacon = [3.14, 'cat', 11, 'cat', True]"
   ]
  },
  {
   "cell_type": "markdown",
   "id": "023734a4",
   "metadata": {},
   "source": [
    "**6. What is the value of bacon.index('cat')?**"
   ]
  },
  {
   "cell_type": "code",
   "execution_count": 17,
   "id": "935a08a5",
   "metadata": {},
   "outputs": [
    {
     "data": {
      "text/plain": [
       "1"
      ]
     },
     "execution_count": 17,
     "metadata": {},
     "output_type": "execute_result"
    }
   ],
   "source": [
    "bacon.index('cat') # In index method returns the index of first occuerence of 'cat'"
   ]
  },
  {
   "cell_type": "markdown",
   "id": "31fe6081",
   "metadata": {},
   "source": [
    "**7. How does bacon.append(99) change the look of the list value in bacon?**"
   ]
  },
  {
   "cell_type": "code",
   "execution_count": 18,
   "id": "de30f3e9",
   "metadata": {},
   "outputs": [
    {
     "name": "stdout",
     "output_type": "stream",
     "text": [
      "bacon = [3.14, 'cat', 11, 'cat', True, 99]\n"
     ]
    }
   ],
   "source": [
    "bacon.append(99) # Append function add the value after last element\n",
    "print(\"bacon =\", bacon)"
   ]
  },
  {
   "cell_type": "markdown",
   "id": "a1debffc",
   "metadata": {},
   "source": [
    "**8. How does bacon.remove('cat') change the look of the list in bacon?**"
   ]
  },
  {
   "cell_type": "code",
   "execution_count": 20,
   "id": "114a9d75",
   "metadata": {},
   "outputs": [
    {
     "name": "stdout",
     "output_type": "stream",
     "text": [
      "------Before Remove--------\n",
      "[3.14, 11, 'cat', True, 99]\n",
      "------After  Remove--------\n",
      "[3.14, 11, True, 99]\n"
     ]
    }
   ],
   "source": [
    "print(\"------Before Remove--------\")\n",
    "print(bacon)\n",
    "\n",
    "bacon.remove('cat')  # This remove the first instance of Cat from List\n",
    "\n",
    "print(\"------After  Remove--------\")\n",
    "print(bacon)"
   ]
  },
  {
   "cell_type": "markdown",
   "id": "3be05933",
   "metadata": {},
   "source": [
    "**9. What are the list concatenation and list replication operators?**"
   ]
  },
  {
   "cell_type": "code",
   "execution_count": 33,
   "id": "5ae8029e",
   "metadata": {},
   "outputs": [
    {
     "name": "stdout",
     "output_type": "stream",
     "text": [
      "Concatenation A+B ['2', '4', '45', 'Hello', '21', '110', '20', 'How r u']\n",
      "Relication B*2 ['110', '20', 'How r u', '110', '20', 'How r u']\n"
     ]
    }
   ],
   "source": [
    "\n",
    "\n",
    "#`+` operator is use for concatenation\n",
    "#`*` operator is used for replication\n",
    "\n",
    "A = ['Hi','Friends','45','Hello','21']\n",
    "B=['1' '10', '20', 'How r u' ]\n",
    "C=A+B\n",
    "print(\"Concatenation A+B\", C)\n",
    "print(\"Relication B*2\", B*2)"
   ]
  },
  {
   "cell_type": "markdown",
   "id": "d38bb3e2",
   "metadata": {},
   "source": [
    "**10. What is difference between the list methods append() and insert()?**\n",
    "**Ans**"
   ]
  },
  {
   "cell_type": "code",
   "execution_count": 54,
   "id": "1c74c434",
   "metadata": {},
   "outputs": [
    {
     "name": "stdout",
     "output_type": "stream",
     "text": [
      "['Hi', 'how r u?', 'Nilesh']\n",
      "----------------------------\n",
      "['Hi', 'how r u?', 'Ritesh', 'Nilesh']\n"
     ]
    }
   ],
   "source": [
    " list1 = ['Hi', 'how r u?']\n",
    "    \n",
    "list1.append('Nilesh')# Append the' new element at last\n",
    "print(list1)\n",
    "print(\"----------------------------\")\n",
    "\n",
    "list1.insert(2,\"Ritesh\")\n",
    "print(list1)"
   ]
  },
  {
   "cell_type": "markdown",
   "id": "e1a23062",
   "metadata": {},
   "source": [
    "**11. What are the two methods for removing items from a list?**"
   ]
  },
  {
   "cell_type": "code",
   "execution_count": 55,
   "id": "2567c377",
   "metadata": {},
   "outputs": [
    {
     "name": "stdout",
     "output_type": "stream",
     "text": [
      "['how r u?', 'Ritesh', 'Nilesh']\n",
      "['Ritesh', 'Nilesh']\n"
     ]
    }
   ],
   "source": [
    "list1.remove('Hi') #.remove  method is used to remove particular item\n",
    "print(list1)\n",
    "\n",
    "del list1[0] #del is used to remove particulae element by index value passed\n",
    "print(list1)"
   ]
  },
  {
   "cell_type": "markdown",
   "id": "f8b06c70",
   "metadata": {},
   "source": [
    "**12. Describe how list values and string values are identical.**"
   ]
  },
  {
   "cell_type": "markdown",
   "id": "4bbb1481",
   "metadata": {},
   "source": [
    "**Ans:** when we use `len()` function on list  and string  then index values are identical. This indexing can be used in for loop."
   ]
  },
  {
   "cell_type": "markdown",
   "id": "c5606584",
   "metadata": {},
   "source": [
    "**13. What's the difference between tuples and lists?**"
   ]
  },
  {
   "cell_type": "markdown",
   "id": "891d89c6",
   "metadata": {},
   "source": [
    "**Ans:** `tuples`:It is immutable (can not update during run time).Tuples consume less memory as comapre to List. Tuples values are represented inside `()`.\n",
    "\n",
    " Eg: tuple1=(1,2,\"Hello\",3.40)\n",
    " \n",
    "`List`: It is mutable (can update during run time).List values are represented using `[]`\n",
    "\n",
    "Eg: list1=[1,2,\"Heloo\",3.40]"
   ]
  },
  {
   "cell_type": "markdown",
   "id": "34e75d4c",
   "metadata": {},
   "source": [
    "**14. How do you type a tuple value that only contains the integer 42?**"
   ]
  },
  {
   "cell_type": "code",
   "execution_count": 5,
   "id": "1cd43b3a",
   "metadata": {},
   "outputs": [
    {
     "name": "stdout",
     "output_type": "stream",
     "text": [
      "tuple1 value = 42 and Type = <class 'int'>\n"
     ]
    },
    {
     "data": {
      "text/plain": [
       "int"
      ]
     },
     "execution_count": 5,
     "metadata": {},
     "output_type": "execute_result"
    }
   ],
   "source": [
    "tuple1 =(42)\n",
    "print(f\"tuple1 value = {tuple1} and Type = {type(tuple1)}\")\n",
    "type(tuple1)"
   ]
  },
  {
   "cell_type": "markdown",
   "id": "cb323962",
   "metadata": {},
   "source": [
    "**15. How do you get a list value's tuple form? How do you get a tuple value's list form?**"
   ]
  },
  {
   "cell_type": "code",
   "execution_count": 10,
   "id": "8c8744fe",
   "metadata": {},
   "outputs": [
    {
     "name": "stdout",
     "output_type": "stream",
     "text": [
      "List to Tuple form (1, 23, 4.0, 'Hi!')\n",
      "Tuple to List Form [1, 23, 4.0, 'Hi!']\n"
     ]
    }
   ],
   "source": [
    "list1=[1,23,4.00,\"Hi!\"]\n",
    "print(\"List to Tuple form\",tuple(list1)) # Get List value in tuple form by tuple()\n",
    "\n",
    "tuple1= (1,23,4.00,\"Hi!\")\n",
    "print(\"Tuple to List Form\",list(tuple1)) # Get tuple value in list form by list()\n"
   ]
  },
  {
   "cell_type": "markdown",
   "id": "ee576e79",
   "metadata": {},
   "source": [
    "**16. Variables that \"contain\" list values are not necessarily lists themselves. Instead, what do they contain?**"
   ]
  },
  {
   "cell_type": "markdown",
   "id": "6e2b2b20",
   "metadata": {},
   "source": [
    "**Ans:** This variable contain the refernce of the list value"
   ]
  },
  {
   "cell_type": "code",
   "execution_count": 5,
   "id": "3e5ed8fa",
   "metadata": {},
   "outputs": [
    {
     "name": "stdout",
     "output_type": "stream",
     "text": [
      "'a' variable contain list value = hello\n"
     ]
    }
   ],
   "source": [
    "list1= [12,23,\"hello\",13.3]\n",
    "a=list1[2]\n",
    "print (\"'a' variable contain list value =\",a)"
   ]
  },
  {
   "cell_type": "markdown",
   "id": "4ff18a57",
   "metadata": {},
   "source": [
    "**17. How do you distinguish between copy.copy() and copy.deepcopy()?**"
   ]
  },
  {
   "cell_type": "markdown",
   "id": "51b74c50",
   "metadata": {},
   "source": [
    "**Ans:** `copy.copy()` is a shallow copy, means we can create new_list which is copy of orignal_list and if we do the changes in any one of the list then remaining list is also updated.\n",
    "\n",
    "`copy.deepcopy()` is a deep copy of a list, if we do the changes either in original_list or new_list then repective list only update and other list will remain same."
   ]
  },
  {
   "cell_type": "code",
   "execution_count": 22,
   "id": "f3d4e508",
   "metadata": {},
   "outputs": [
    {
     "name": "stdout",
     "output_type": "stream",
     "text": [
      "original List = [[1, 2, 3], [4, 5, 6], [7, 8, 9]]\n",
      "New List =      [[1, 2, 3], [4, 5, 6], [7, 8, 9]]\n",
      "\n",
      "-----Update both List---------\n",
      "original_List = [[1, 2, 3], [4, 'Hi', 6], [7, 8, 9]]\n",
      "New_List =      [[1, 2, 3], [4, 'Hi', 6], [7, 8, 9]]\n",
      "\n",
      "-----shallow List---------\n",
      "original_List = [[1, 2, 3], [4, 'Python', 6], [7, 8, 9]]\n",
      "New_List =      [[1, 2, 3], [4, 'Python', 6], [7, 8, 9]]\n",
      "\n",
      "-----Deep List---------\n",
      "original_List = [[1, 2, 3], [4, 'copy', 6], [7, 8, 9]]\n",
      "New_List =      [[1, 2, 3], [4, 'Python', 6], [7, 8, 9]]\n"
     ]
    }
   ],
   "source": [
    "import copy\n",
    "original_list = [[1,2,3],[4, 5, 6], [7, 8, 9]]\n",
    "new_list = copy.copy(original_list)\n",
    "\n",
    "print(\"original List =\",original_list)\n",
    "print(\"New List =     \",new_list)\n",
    "\n",
    "original_list[1][1] =\"Hi\"   \n",
    "\n",
    "print(\"\\n-----Update both List---------\")\n",
    "print(\"original_List =\",original_list)\n",
    "\n",
    "print(\"New_List =     \",new_list)\n",
    "\n",
    "\n",
    "new_list[1][1] =\"Python\" \n",
    "\n",
    "print(\"\\n-----shallow List---------\")\n",
    "print(\"original_List =\",original_list)\n",
    "\n",
    "print(\"New_List =     \",new_list)\n",
    "\n",
    "\n",
    "\n",
    "new_list = copy.deepcopy(original_list)\n",
    "original_list[1][1] =\"copy\" \n",
    "\n",
    "print(\"\\n-----Deep List---------\")\n",
    "print(\"original_List =\",original_list)\n",
    "\n",
    "print(\"New_List =     \",new_list)"
   ]
  },
  {
   "cell_type": "code",
   "execution_count": null,
   "id": "4373fb73",
   "metadata": {},
   "outputs": [],
   "source": []
  }
 ],
 "metadata": {
  "kernelspec": {
   "display_name": "Python 3 (ipykernel)",
   "language": "python",
   "name": "python3"
  },
  "language_info": {
   "codemirror_mode": {
    "name": "ipython",
    "version": 3
   },
   "file_extension": ".py",
   "mimetype": "text/x-python",
   "name": "python",
   "nbconvert_exporter": "python",
   "pygments_lexer": "ipython3",
   "version": "3.10.9"
  }
 },
 "nbformat": 4,
 "nbformat_minor": 5
}
