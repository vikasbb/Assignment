{
 "cells": [
  {
   "cell_type": "markdown",
   "id": "1ff859d9",
   "metadata": {},
   "source": [
    "## Basic Python Assignment 3\n",
    "**Vikas Bhangdiya**"
   ]
  },
  {
   "cell_type": "markdown",
   "id": "4f5b7633",
   "metadata": {},
   "source": [
    "#### Q1. Why are functions advantageous to have in your programs?\n",
    "\n",
    "Ans: Functions are used to reduce the code size, avoid repeatation of code and easy to understand the code (Reading Friendly)."
   ]
  },
  {
   "cell_type": "markdown",
   "id": "b3a7c23d",
   "metadata": {},
   "source": [
    "##### Q2. When does the code in a function run: when it's specified or when it's called?\n",
    "\n",
    "#Ans: Functions run when its called in the program."
   ]
  },
  {
   "cell_type": "code",
   "execution_count": null,
   "id": "60065cca",
   "metadata": {},
   "outputs": [],
   "source": [
    "def my_fun():   #Function Defination\n",
    "    print(\"Hello\")\n",
    "\n",
    "my_fun()  # Function call"
   ]
  },
  {
   "cell_type": "markdown",
   "id": "cfb79dee",
   "metadata": {},
   "source": [
    "#### Q3. What statement creates a function?\n",
    "Ans: def and lambda: creates a function \n",
    "  \n",
    "  Eg: "
   ]
  },
  {
   "cell_type": "code",
   "execution_count": 1,
   "id": "45c291ee",
   "metadata": {},
   "outputs": [],
   "source": [
    "def my_fun():\n",
    "    print(\"Hello\")"
   ]
  },
  {
   "cell_type": "markdown",
   "id": "33f93c3c",
   "metadata": {},
   "source": [
    "#### Q4. What is the difference between a function and a function call?\n",
    "\n",
    "Ans: Function: it is defined by def keyword with function_name and its function body.\n",
    "\n",
    "Function Call: whenever we need to perform the operation of function just write a name of function and assign its return value to the specified variable."
   ]
  },
  {
   "cell_type": "markdown",
   "id": "64bf7a89",
   "metadata": {},
   "source": [
    "#### Q5. How many global scopes are there in a Python program? How many local scopes?\n",
    "\n",
    "Ans: There is only one global scope and local scope in python program."
   ]
  },
  {
   "cell_type": "markdown",
   "id": "fc899d7c",
   "metadata": {},
   "source": [
    "#### Q6 What happens to variables in a local scope when the function call returns?\n",
    "\n",
    "Ans:Local scope variable is vanished when the function call returns."
   ]
  },
  {
   "cell_type": "code",
   "execution_count": 6,
   "id": "436edea1",
   "metadata": {},
   "outputs": [
    {
     "name": "stdout",
     "output_type": "stream",
     "text": [
      "Local value =  1\n",
      "None\n"
     ]
    }
   ],
   "source": [
    "def my_scope ():\n",
    "    local= 1\n",
    "    print (\"Local value = \",local)\n",
    "    \n",
    "i =my_scope()  # Function call \n",
    "print(i)"
   ]
  },
  {
   "cell_type": "markdown",
   "id": "b2a0db27",
   "metadata": {},
   "source": [
    "#### Q7 What is the concept of a return value? Is it possible to have a return value in an expression?\n",
    "\n",
    "Ans:After the execution of function, its result is available in return value."
   ]
  },
  {
   "cell_type": "markdown",
   "id": "db06117c",
   "metadata": {},
   "source": [
    "#### Q8 If a function does not have a return statement, what is the return value of a call to that function?\n",
    "Ans: If a function does not have a return statement then it will return as None"
   ]
  },
  {
   "cell_type": "markdown",
   "id": "065d1498",
   "metadata": {},
   "source": [
    "#### Q9 How do you make a function variable refer to the global variable?\n",
    "Ans: we can make function variable as a global variable by writing `global` keyword just before the variable name."
   ]
  },
  {
   "cell_type": "markdown",
   "id": "67fa5b2f",
   "metadata": {},
   "source": [
    "#### 10. What is the data type of None?\n",
    "Ans: None is belongs to `NoneType` data types"
   ]
  },
  {
   "cell_type": "markdown",
   "id": "11d46efa",
   "metadata": {},
   "source": [
    "#### Q11 What does the sentence import areallyourpetsnamederic do?\n",
    "Ans: `import areallyourpetsnamederic` , it import the package/module of name `areallyourpetsnamederic`"
   ]
  },
  {
   "cell_type": "markdown",
   "id": "0fda78df",
   "metadata": {},
   "source": [
    "**Q12 . If you had a bacon() feature in a spam module, what would you call it after importing spam?**\n",
    "\n",
    "Ans: **spam.bacon()**"
   ]
  },
  {
   "cell_type": "markdown",
   "id": "d08eea19",
   "metadata": {},
   "source": [
    "**Q13 What can you do to save a programme from crashing if it encounters an error?**\n",
    "\n",
    "Ans: We save a program from crashing by using `try` and `except` block. Add the program code in `try` block and write `except` block to encouter the error."
   ]
  },
  {
   "cell_type": "markdown",
   "id": "396dc3eb",
   "metadata": {},
   "source": [
    "**Q14 What is the purpose of the try clause? What is the purpose of the except clause?**\n",
    "\n",
    "Ans: \n",
    "`try` clause is used to debugging the big program.\n",
    "`except` clause is used to print the error, if any in the program.."
   ]
  },
  {
   "cell_type": "code",
   "execution_count": null,
   "id": "8f5f43d6",
   "metadata": {},
   "outputs": [],
   "source": []
  }
 ],
 "metadata": {
  "kernelspec": {
   "display_name": "Python 3 (ipykernel)",
   "language": "python",
   "name": "python3"
  },
  "language_info": {
   "codemirror_mode": {
    "name": "ipython",
    "version": 3
   },
   "file_extension": ".py",
   "mimetype": "text/x-python",
   "name": "python",
   "nbconvert_exporter": "python",
   "pygments_lexer": "ipython3",
   "version": "3.10.9"
  }
 },
 "nbformat": 4,
 "nbformat_minor": 5
}
